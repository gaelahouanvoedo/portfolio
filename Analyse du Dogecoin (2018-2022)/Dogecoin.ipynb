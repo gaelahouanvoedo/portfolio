{
 "cells": [
  {
   "cell_type": "markdown",
   "metadata": {
    "papermill": {
     "duration": 0.055761,
     "end_time": "2022-06-24T00:53:57.048280",
     "exception": false,
     "start_time": "2022-06-24T00:53:56.992519",
     "status": "completed"
    },
    "tags": []
   },
   "source": [
    "**Créé par Gaël AHOUANVOEDO**\n",
    "\n",
    "**🚀 Dogecoin 📊 Kaggle 📈**\n",
    "\n",
    "**29 juillet 2022**"
   ]
  },
  {
   "cell_type": "markdown",
   "metadata": {
    "papermill": {
     "duration": 0.050982,
     "end_time": "2022-06-24T00:53:57.150876",
     "exception": false,
     "start_time": "2022-06-24T00:53:57.099894",
     "status": "completed"
    },
    "tags": []
   },
   "source": [
    "# **<center><span style=\"color:#fd7b12;\">🚀 DOGECOIN 🚀 </span></center>**\n",
    "## <center>Pour plus d'informations, vous pouvez me contacter sur LinkedIn👍</center>"
   ]
  },
  {
   "cell_type": "markdown",
   "metadata": {
    "papermill": {
     "duration": 0.050823,
     "end_time": "2022-06-24T00:53:57.356038",
     "exception": false,
     "start_time": "2022-06-24T00:53:57.305215",
     "status": "completed"
    },
    "tags": []
   },
   "source": [
    "# **<span style=\"color:#fd7b12;\">Table des matières</span>**\n",
    "<a id=\"toc\"></a>\n",
    "- [1. Introduction](#1)\n",
    "- [2. Imports](#2)\n",
    "- [3. Data Wrangling](#3)\n",
    "- [4. Exploratory Data Analyse](#4)\n",
    "- [5. Prediction](#5)\n",
    "- [6. Conclusion](#6)"
   ]
  },
  {
   "cell_type": "markdown",
   "metadata": {
    "papermill": {
     "duration": 0.051282,
     "end_time": "2022-06-24T00:53:57.458655",
     "exception": false,
     "start_time": "2022-06-24T00:53:57.407373",
     "status": "completed"
    },
    "tags": []
   },
   "source": [
    "<a id=\"1\"></a>\n",
    "# **<center><span style=\"color:#fd7b12;\">Introduction  </span></center>**"
   ]
  },
  {
   "cell_type": "markdown",
   "metadata": {
    "papermill": {
     "duration": 0.050623,
     "end_time": "2022-06-24T00:53:57.560548",
     "exception": false,
     "start_time": "2022-06-24T00:53:57.509925",
     "status": "completed"
    },
    "tags": []
   },
   "source": [
    "### Dans ce projet, je suis emmené à analyser et créer un système de prédiction pour le dogecoin"
   ]
  },
  {
   "cell_type": "markdown",
   "metadata": {
    "papermill": {
     "duration": 0.050605,
     "end_time": "2022-06-24T00:53:57.662362",
     "exception": false,
     "start_time": "2022-06-24T00:53:57.611757",
     "status": "completed"
    },
    "tags": []
   },
   "source": [
    "<a href=\"#toc\" role=\"button\" aria-pressed=\"true\" >⬆️Back to Table of Contents ⬆️</a>"
   ]
  },
  {
   "cell_type": "markdown",
   "metadata": {
    "papermill": {
     "duration": 0.050501,
     "end_time": "2022-06-24T00:53:57.763888",
     "exception": false,
     "start_time": "2022-06-24T00:53:57.713387",
     "status": "completed"
    },
    "tags": []
   },
   "source": [
    "<a id=\"2\"></a>\n",
    "# **<center><span style=\"color:#fd7b12;\">Imports  </span></center>**"
   ]
  },
  {
   "cell_type": "code",
   "execution_count": 1,
   "metadata": {
    "papermill": {
     "duration": 26.262888,
     "end_time": "2022-06-24T00:54:24.082632",
     "exception": false,
     "start_time": "2022-06-24T00:53:57.819744",
     "status": "completed"
    },
    "tags": []
   },
   "outputs": [],
   "source": [
    "import numpy as np\n",
    "import pandas as pd\n",
    "import matplotlib.pyplot as plt\n",
    "import seaborn as sns\n",
    "import warnings\n",
    "import scipy.stats as stats\n",
    "warnings.filterwarnings('ignore')"
   ]
  },
  {
   "cell_type": "markdown",
   "metadata": {
    "papermill": {
     "duration": 0.059157,
     "end_time": "2022-06-24T00:54:24.202246",
     "exception": false,
     "start_time": "2022-06-24T00:54:24.143089",
     "status": "completed"
    },
    "tags": []
   },
   "source": [
    "<a href=\"#toc\" role=\"button\" aria-pressed=\"true\" >⬆️Back to Table of Contents ⬆️</a>"
   ]
  },
  {
   "cell_type": "markdown",
   "metadata": {
    "papermill": {
     "duration": 0.059991,
     "end_time": "2022-06-24T00:54:24.321968",
     "exception": false,
     "start_time": "2022-06-24T00:54:24.261977",
     "status": "completed"
    },
    "tags": []
   },
   "source": [
    "<a id=\"3\"></a>\n",
    "# **<center><span style=\"color:#fd7b12;\"> Data Wrangling </span></center>**"
   ]
  },
  {
   "cell_type": "code",
   "execution_count": 2,
   "metadata": {
    "papermill": {
     "duration": 0.090766,
     "end_time": "2022-06-24T00:54:24.610648",
     "exception": false,
     "start_time": "2022-06-24T00:54:24.519882",
     "status": "completed"
    },
    "tags": []
   },
   "outputs": [],
   "source": [
    "data= pd.read_csv('dogecoin.csv', parse_dates=['Date'], index_col='Date')\n",
    "df = data.copy()"
   ]
  },
  {
   "cell_type": "code",
   "execution_count": 3,
   "metadata": {
    "papermill": {
     "duration": 0.103849,
     "end_time": "2022-06-24T00:54:24.774231",
     "exception": false,
     "start_time": "2022-06-24T00:54:24.670382",
     "status": "completed"
    },
    "tags": []
   },
   "outputs": [
    {
     "data": {
      "text/html": [
       "<div>\n",
       "<style scoped>\n",
       "    .dataframe tbody tr th:only-of-type {\n",
       "        vertical-align: middle;\n",
       "    }\n",
       "\n",
       "    .dataframe tbody tr th {\n",
       "        vertical-align: top;\n",
       "    }\n",
       "\n",
       "    .dataframe thead th {\n",
       "        text-align: right;\n",
       "    }\n",
       "</style>\n",
       "<table border=\"1\" class=\"dataframe\">\n",
       "  <thead>\n",
       "    <tr style=\"text-align: right;\">\n",
       "      <th></th>\n",
       "      <th>Open</th>\n",
       "      <th>High</th>\n",
       "      <th>Low</th>\n",
       "      <th>Close</th>\n",
       "      <th>Adj Close</th>\n",
       "      <th>Volume</th>\n",
       "    </tr>\n",
       "    <tr>\n",
       "      <th>Date</th>\n",
       "      <th></th>\n",
       "      <th></th>\n",
       "      <th></th>\n",
       "      <th></th>\n",
       "      <th></th>\n",
       "      <th></th>\n",
       "    </tr>\n",
       "  </thead>\n",
       "  <tbody>\n",
       "    <tr>\n",
       "      <th>2019-07-17</th>\n",
       "      <td>0.002819</td>\n",
       "      <td>0.003177</td>\n",
       "      <td>0.002772</td>\n",
       "      <td>0.003030</td>\n",
       "      <td>0.003030</td>\n",
       "      <td>41838001.0</td>\n",
       "    </tr>\n",
       "    <tr>\n",
       "      <th>2019-09-26</th>\n",
       "      <td>0.002202</td>\n",
       "      <td>0.002229</td>\n",
       "      <td>0.002076</td>\n",
       "      <td>0.002155</td>\n",
       "      <td>0.002155</td>\n",
       "      <td>46965571.0</td>\n",
       "    </tr>\n",
       "    <tr>\n",
       "      <th>2018-11-24</th>\n",
       "      <td>0.002364</td>\n",
       "      <td>0.002390</td>\n",
       "      <td>0.002194</td>\n",
       "      <td>0.002224</td>\n",
       "      <td>0.002224</td>\n",
       "      <td>11318100.0</td>\n",
       "    </tr>\n",
       "    <tr>\n",
       "      <th>2020-10-25</th>\n",
       "      <td>0.002645</td>\n",
       "      <td>0.002676</td>\n",
       "      <td>0.002624</td>\n",
       "      <td>0.002653</td>\n",
       "      <td>0.002653</td>\n",
       "      <td>58532388.0</td>\n",
       "    </tr>\n",
       "    <tr>\n",
       "      <th>2019-06-22</th>\n",
       "      <td>0.003229</td>\n",
       "      <td>0.003354</td>\n",
       "      <td>0.003185</td>\n",
       "      <td>0.003279</td>\n",
       "      <td>0.003279</td>\n",
       "      <td>57373528.0</td>\n",
       "    </tr>\n",
       "  </tbody>\n",
       "</table>\n",
       "</div>"
      ],
      "text/plain": [
       "                Open      High       Low     Close  Adj Close      Volume\n",
       "Date                                                                     \n",
       "2019-07-17  0.002819  0.003177  0.002772  0.003030   0.003030  41838001.0\n",
       "2019-09-26  0.002202  0.002229  0.002076  0.002155   0.002155  46965571.0\n",
       "2018-11-24  0.002364  0.002390  0.002194  0.002224   0.002224  11318100.0\n",
       "2020-10-25  0.002645  0.002676  0.002624  0.002653   0.002653  58532388.0\n",
       "2019-06-22  0.003229  0.003354  0.003185  0.003279   0.003279  57373528.0"
      ]
     },
     "execution_count": 3,
     "metadata": {},
     "output_type": "execute_result"
    }
   ],
   "source": [
    "df.sample(5)"
   ]
  },
  {
   "cell_type": "markdown",
   "metadata": {
    "papermill": {
     "duration": 0.059693,
     "end_time": "2022-06-24T00:54:24.894092",
     "exception": false,
     "start_time": "2022-06-24T00:54:24.834399",
     "status": "completed"
    },
    "tags": []
   },
   "source": [
    "### Tout d'abord, nous examinons le nombre de lignes et de colonnes que nous avons"
   ]
  },
  {
   "cell_type": "code",
   "execution_count": 4,
   "metadata": {
    "papermill": {
     "duration": 0.07167,
     "end_time": "2022-06-24T00:54:25.025118",
     "exception": false,
     "start_time": "2022-06-24T00:54:24.953448",
     "status": "completed"
    },
    "tags": []
   },
   "outputs": [
    {
     "data": {
      "text/plain": [
       "(1723, 6)"
      ]
     },
     "execution_count": 4,
     "metadata": {},
     "output_type": "execute_result"
    }
   ],
   "source": [
    "df.shape"
   ]
  },
  {
   "cell_type": "markdown",
   "metadata": {
    "papermill": {
     "duration": 0.059671,
     "end_time": "2022-06-24T00:54:25.144259",
     "exception": false,
     "start_time": "2022-06-24T00:54:25.084588",
     "status": "completed"
    },
    "tags": []
   },
   "source": [
    "### Et qu'en est-il des valeurs manquantes"
   ]
  },
  {
   "cell_type": "code",
   "execution_count": 5,
   "metadata": {
    "papermill": {
     "duration": 0.097231,
     "end_time": "2022-06-24T00:54:25.300985",
     "exception": false,
     "start_time": "2022-06-24T00:54:25.203754",
     "status": "completed"
    },
    "tags": []
   },
   "outputs": [
    {
     "name": "stdout",
     "output_type": "stream",
     "text": [
      "<class 'pandas.core.frame.DataFrame'>\n",
      "DatetimeIndex: 1723 entries, 2017-11-09 to 2022-07-28\n",
      "Data columns (total 6 columns):\n",
      " #   Column     Non-Null Count  Dtype  \n",
      "---  ------     --------------  -----  \n",
      " 0   Open       1722 non-null   float64\n",
      " 1   High       1722 non-null   float64\n",
      " 2   Low        1722 non-null   float64\n",
      " 3   Close      1722 non-null   float64\n",
      " 4   Adj Close  1722 non-null   float64\n",
      " 5   Volume     1722 non-null   float64\n",
      "dtypes: float64(6)\n",
      "memory usage: 94.2 KB\n"
     ]
    }
   ],
   "source": [
    "df.info()"
   ]
  },
  {
   "cell_type": "markdown",
   "metadata": {
    "papermill": {
     "duration": 0.058888,
     "end_time": "2022-06-24T00:54:25.420729",
     "exception": false,
     "start_time": "2022-06-24T00:54:25.361841",
     "status": "completed"
    },
    "tags": []
   },
   "source": [
    "### Il semble que nous ayons des valeurs manquantes, nous pouvons vérifier cela avec une autre fonction"
   ]
  },
  {
   "cell_type": "code",
   "execution_count": 6,
   "metadata": {
    "papermill": {
     "duration": 0.074271,
     "end_time": "2022-06-24T00:54:25.554536",
     "exception": false,
     "start_time": "2022-06-24T00:54:25.480265",
     "status": "completed"
    },
    "tags": []
   },
   "outputs": [
    {
     "data": {
      "text/plain": [
       "6"
      ]
     },
     "execution_count": 6,
     "metadata": {},
     "output_type": "execute_result"
    }
   ],
   "source": [
    "df.isnull().sum().sum()"
   ]
  },
  {
   "cell_type": "markdown",
   "metadata": {},
   "source": [
    "### On va identifier ces valeurs"
   ]
  },
  {
   "cell_type": "code",
   "execution_count": 7,
   "metadata": {},
   "outputs": [
    {
     "data": {
      "text/html": [
       "<div>\n",
       "<style scoped>\n",
       "    .dataframe tbody tr th:only-of-type {\n",
       "        vertical-align: middle;\n",
       "    }\n",
       "\n",
       "    .dataframe tbody tr th {\n",
       "        vertical-align: top;\n",
       "    }\n",
       "\n",
       "    .dataframe thead th {\n",
       "        text-align: right;\n",
       "    }\n",
       "</style>\n",
       "<table border=\"1\" class=\"dataframe\">\n",
       "  <thead>\n",
       "    <tr style=\"text-align: right;\">\n",
       "      <th></th>\n",
       "      <th>Open</th>\n",
       "      <th>High</th>\n",
       "      <th>Low</th>\n",
       "      <th>Close</th>\n",
       "      <th>Adj Close</th>\n",
       "      <th>Volume</th>\n",
       "    </tr>\n",
       "    <tr>\n",
       "      <th>Date</th>\n",
       "      <th></th>\n",
       "      <th></th>\n",
       "      <th></th>\n",
       "      <th></th>\n",
       "      <th></th>\n",
       "      <th></th>\n",
       "    </tr>\n",
       "  </thead>\n",
       "  <tbody>\n",
       "    <tr>\n",
       "      <th>2022-07-27</th>\n",
       "      <td>NaN</td>\n",
       "      <td>NaN</td>\n",
       "      <td>NaN</td>\n",
       "      <td>NaN</td>\n",
       "      <td>NaN</td>\n",
       "      <td>NaN</td>\n",
       "    </tr>\n",
       "  </tbody>\n",
       "</table>\n",
       "</div>"
      ],
      "text/plain": [
       "            Open  High  Low  Close  Adj Close  Volume\n",
       "Date                                                 \n",
       "2022-07-27   NaN   NaN  NaN    NaN        NaN     NaN"
      ]
     },
     "execution_count": 7,
     "metadata": {},
     "output_type": "execute_result"
    }
   ],
   "source": [
    "df[df.isna().any(axis=1) == True]"
   ]
  },
  {
   "cell_type": "code",
   "execution_count": 8,
   "metadata": {},
   "outputs": [
    {
     "data": {
      "text/html": [
       "<div>\n",
       "<style scoped>\n",
       "    .dataframe tbody tr th:only-of-type {\n",
       "        vertical-align: middle;\n",
       "    }\n",
       "\n",
       "    .dataframe tbody tr th {\n",
       "        vertical-align: top;\n",
       "    }\n",
       "\n",
       "    .dataframe thead th {\n",
       "        text-align: right;\n",
       "    }\n",
       "</style>\n",
       "<table border=\"1\" class=\"dataframe\">\n",
       "  <thead>\n",
       "    <tr style=\"text-align: right;\">\n",
       "      <th></th>\n",
       "      <th>Open</th>\n",
       "      <th>High</th>\n",
       "      <th>Low</th>\n",
       "      <th>Close</th>\n",
       "      <th>Adj Close</th>\n",
       "      <th>Volume</th>\n",
       "    </tr>\n",
       "    <tr>\n",
       "      <th>Date</th>\n",
       "      <th></th>\n",
       "      <th></th>\n",
       "      <th></th>\n",
       "      <th></th>\n",
       "      <th></th>\n",
       "      <th></th>\n",
       "    </tr>\n",
       "  </thead>\n",
       "  <tbody>\n",
       "    <tr>\n",
       "      <th>2022-07-24</th>\n",
       "      <td>0.068116</td>\n",
       "      <td>0.068854</td>\n",
       "      <td>0.067589</td>\n",
       "      <td>0.067724</td>\n",
       "      <td>0.067724</td>\n",
       "      <td>369141492.0</td>\n",
       "    </tr>\n",
       "    <tr>\n",
       "      <th>2022-07-25</th>\n",
       "      <td>0.067716</td>\n",
       "      <td>0.067880</td>\n",
       "      <td>0.062306</td>\n",
       "      <td>0.062306</td>\n",
       "      <td>0.062306</td>\n",
       "      <td>448572441.0</td>\n",
       "    </tr>\n",
       "    <tr>\n",
       "      <th>2022-07-26</th>\n",
       "      <td>0.062319</td>\n",
       "      <td>0.062512</td>\n",
       "      <td>0.060425</td>\n",
       "      <td>0.062512</td>\n",
       "      <td>0.062512</td>\n",
       "      <td>416488015.0</td>\n",
       "    </tr>\n",
       "    <tr>\n",
       "      <th>2022-07-27</th>\n",
       "      <td>NaN</td>\n",
       "      <td>NaN</td>\n",
       "      <td>NaN</td>\n",
       "      <td>NaN</td>\n",
       "      <td>NaN</td>\n",
       "      <td>NaN</td>\n",
       "    </tr>\n",
       "    <tr>\n",
       "      <th>2022-07-28</th>\n",
       "      <td>0.067013</td>\n",
       "      <td>0.067198</td>\n",
       "      <td>0.065971</td>\n",
       "      <td>0.066534</td>\n",
       "      <td>0.066534</td>\n",
       "      <td>545875968.0</td>\n",
       "    </tr>\n",
       "  </tbody>\n",
       "</table>\n",
       "</div>"
      ],
      "text/plain": [
       "                Open      High       Low     Close  Adj Close       Volume\n",
       "Date                                                                      \n",
       "2022-07-24  0.068116  0.068854  0.067589  0.067724   0.067724  369141492.0\n",
       "2022-07-25  0.067716  0.067880  0.062306  0.062306   0.062306  448572441.0\n",
       "2022-07-26  0.062319  0.062512  0.060425  0.062512   0.062512  416488015.0\n",
       "2022-07-27       NaN       NaN       NaN       NaN        NaN          NaN\n",
       "2022-07-28  0.067013  0.067198  0.065971  0.066534   0.066534  545875968.0"
      ]
     },
     "execution_count": 8,
     "metadata": {},
     "output_type": "execute_result"
    }
   ],
   "source": [
    "df.tail(5)"
   ]
  },
  {
   "cell_type": "markdown",
   "metadata": {},
   "source": [
    "### On constate que les données du 27/07 sont absentes mais celles du 28/07 sont présente. Soit on remplace la valeur du 27 par la valeur précédente, celle du 26 ou soit on supprime les lignes des dates de 27 et 28. Je pense que la première idée est la plus appropriée"
   ]
  },
  {
   "cell_type": "code",
   "execution_count": 9,
   "metadata": {},
   "outputs": [
    {
     "data": {
      "text/plain": [
       "0"
      ]
     },
     "execution_count": 9,
     "metadata": {},
     "output_type": "execute_result"
    }
   ],
   "source": [
    "df.fillna(method='bfill',inplace=True)\n",
    "df.isnull().sum().sum()"
   ]
  },
  {
   "cell_type": "markdown",
   "metadata": {
    "papermill": {
     "duration": 0.060705,
     "end_time": "2022-06-24T00:54:26.818316",
     "exception": false,
     "start_time": "2022-06-24T00:54:26.757611",
     "status": "completed"
    },
    "tags": []
   },
   "source": [
    "### Nous allons créer une moyenne mobile pour une meilleure visualisation dans l'EDA"
   ]
  },
  {
   "cell_type": "code",
   "execution_count": 10,
   "metadata": {},
   "outputs": [],
   "source": [
    "avg_num = 10\n",
    "df['rolling_price'] = df['Close'].rolling(window = avg_num ).mean()"
   ]
  },
  {
   "cell_type": "code",
   "execution_count": 11,
   "metadata": {},
   "outputs": [
    {
     "data": {
      "text/html": [
       "<div>\n",
       "<style scoped>\n",
       "    .dataframe tbody tr th:only-of-type {\n",
       "        vertical-align: middle;\n",
       "    }\n",
       "\n",
       "    .dataframe tbody tr th {\n",
       "        vertical-align: top;\n",
       "    }\n",
       "\n",
       "    .dataframe thead th {\n",
       "        text-align: right;\n",
       "    }\n",
       "</style>\n",
       "<table border=\"1\" class=\"dataframe\">\n",
       "  <thead>\n",
       "    <tr style=\"text-align: right;\">\n",
       "      <th></th>\n",
       "      <th>Open</th>\n",
       "      <th>High</th>\n",
       "      <th>Low</th>\n",
       "      <th>Close</th>\n",
       "      <th>Adj Close</th>\n",
       "      <th>Volume</th>\n",
       "      <th>rolling_price</th>\n",
       "    </tr>\n",
       "    <tr>\n",
       "      <th>Date</th>\n",
       "      <th></th>\n",
       "      <th></th>\n",
       "      <th></th>\n",
       "      <th></th>\n",
       "      <th></th>\n",
       "      <th></th>\n",
       "      <th></th>\n",
       "    </tr>\n",
       "  </thead>\n",
       "  <tbody>\n",
       "    <tr>\n",
       "      <th>2017-11-09</th>\n",
       "      <td>0.001207</td>\n",
       "      <td>0.001415</td>\n",
       "      <td>0.001181</td>\n",
       "      <td>0.001415</td>\n",
       "      <td>0.001415</td>\n",
       "      <td>6259550.0</td>\n",
       "      <td>NaN</td>\n",
       "    </tr>\n",
       "    <tr>\n",
       "      <th>2017-11-10</th>\n",
       "      <td>0.001421</td>\n",
       "      <td>0.001431</td>\n",
       "      <td>0.001125</td>\n",
       "      <td>0.001163</td>\n",
       "      <td>0.001163</td>\n",
       "      <td>4246520.0</td>\n",
       "      <td>NaN</td>\n",
       "    </tr>\n",
       "    <tr>\n",
       "      <th>2017-11-11</th>\n",
       "      <td>0.001146</td>\n",
       "      <td>0.001257</td>\n",
       "      <td>0.001141</td>\n",
       "      <td>0.001201</td>\n",
       "      <td>0.001201</td>\n",
       "      <td>2231080.0</td>\n",
       "      <td>NaN</td>\n",
       "    </tr>\n",
       "    <tr>\n",
       "      <th>2017-11-12</th>\n",
       "      <td>0.001189</td>\n",
       "      <td>0.001210</td>\n",
       "      <td>0.001002</td>\n",
       "      <td>0.001038</td>\n",
       "      <td>0.001038</td>\n",
       "      <td>3288960.0</td>\n",
       "      <td>NaN</td>\n",
       "    </tr>\n",
       "    <tr>\n",
       "      <th>2017-11-13</th>\n",
       "      <td>0.001046</td>\n",
       "      <td>0.001212</td>\n",
       "      <td>0.001019</td>\n",
       "      <td>0.001211</td>\n",
       "      <td>0.001211</td>\n",
       "      <td>2481270.0</td>\n",
       "      <td>NaN</td>\n",
       "    </tr>\n",
       "    <tr>\n",
       "      <th>2017-11-14</th>\n",
       "      <td>0.001201</td>\n",
       "      <td>0.001239</td>\n",
       "      <td>0.001131</td>\n",
       "      <td>0.001184</td>\n",
       "      <td>0.001184</td>\n",
       "      <td>2660340.0</td>\n",
       "      <td>NaN</td>\n",
       "    </tr>\n",
       "    <tr>\n",
       "      <th>2017-11-15</th>\n",
       "      <td>0.001189</td>\n",
       "      <td>0.001351</td>\n",
       "      <td>0.001179</td>\n",
       "      <td>0.001339</td>\n",
       "      <td>0.001339</td>\n",
       "      <td>2840180.0</td>\n",
       "      <td>NaN</td>\n",
       "    </tr>\n",
       "    <tr>\n",
       "      <th>2017-11-16</th>\n",
       "      <td>0.001348</td>\n",
       "      <td>0.001424</td>\n",
       "      <td>0.001286</td>\n",
       "      <td>0.001390</td>\n",
       "      <td>0.001390</td>\n",
       "      <td>3423010.0</td>\n",
       "      <td>NaN</td>\n",
       "    </tr>\n",
       "    <tr>\n",
       "      <th>2017-11-17</th>\n",
       "      <td>0.001381</td>\n",
       "      <td>0.001394</td>\n",
       "      <td>0.001274</td>\n",
       "      <td>0.001313</td>\n",
       "      <td>0.001313</td>\n",
       "      <td>2787480.0</td>\n",
       "      <td>NaN</td>\n",
       "    </tr>\n",
       "    <tr>\n",
       "      <th>2017-11-18</th>\n",
       "      <td>0.001308</td>\n",
       "      <td>0.001385</td>\n",
       "      <td>0.001254</td>\n",
       "      <td>0.001373</td>\n",
       "      <td>0.001373</td>\n",
       "      <td>1648260.0</td>\n",
       "      <td>0.001263</td>\n",
       "    </tr>\n",
       "    <tr>\n",
       "      <th>2017-11-19</th>\n",
       "      <td>0.001355</td>\n",
       "      <td>0.001421</td>\n",
       "      <td>0.001340</td>\n",
       "      <td>0.001376</td>\n",
       "      <td>0.001376</td>\n",
       "      <td>1431720.0</td>\n",
       "      <td>0.001259</td>\n",
       "    </tr>\n",
       "    <tr>\n",
       "      <th>2017-11-20</th>\n",
       "      <td>0.001374</td>\n",
       "      <td>0.001428</td>\n",
       "      <td>0.001348</td>\n",
       "      <td>0.001394</td>\n",
       "      <td>0.001394</td>\n",
       "      <td>2141360.0</td>\n",
       "      <td>0.001282</td>\n",
       "    </tr>\n",
       "    <tr>\n",
       "      <th>2017-11-21</th>\n",
       "      <td>0.001410</td>\n",
       "      <td>0.001446</td>\n",
       "      <td>0.001302</td>\n",
       "      <td>0.001389</td>\n",
       "      <td>0.001389</td>\n",
       "      <td>3047660.0</td>\n",
       "      <td>0.001301</td>\n",
       "    </tr>\n",
       "    <tr>\n",
       "      <th>2017-11-22</th>\n",
       "      <td>0.001401</td>\n",
       "      <td>0.002053</td>\n",
       "      <td>0.001373</td>\n",
       "      <td>0.001823</td>\n",
       "      <td>0.001823</td>\n",
       "      <td>18841700.0</td>\n",
       "      <td>0.001379</td>\n",
       "    </tr>\n",
       "    <tr>\n",
       "      <th>2017-11-23</th>\n",
       "      <td>0.001819</td>\n",
       "      <td>0.002246</td>\n",
       "      <td>0.001819</td>\n",
       "      <td>0.001891</td>\n",
       "      <td>0.001891</td>\n",
       "      <td>26126500.0</td>\n",
       "      <td>0.001447</td>\n",
       "    </tr>\n",
       "  </tbody>\n",
       "</table>\n",
       "</div>"
      ],
      "text/plain": [
       "                Open      High       Low     Close  Adj Close      Volume  \\\n",
       "Date                                                                        \n",
       "2017-11-09  0.001207  0.001415  0.001181  0.001415   0.001415   6259550.0   \n",
       "2017-11-10  0.001421  0.001431  0.001125  0.001163   0.001163   4246520.0   \n",
       "2017-11-11  0.001146  0.001257  0.001141  0.001201   0.001201   2231080.0   \n",
       "2017-11-12  0.001189  0.001210  0.001002  0.001038   0.001038   3288960.0   \n",
       "2017-11-13  0.001046  0.001212  0.001019  0.001211   0.001211   2481270.0   \n",
       "2017-11-14  0.001201  0.001239  0.001131  0.001184   0.001184   2660340.0   \n",
       "2017-11-15  0.001189  0.001351  0.001179  0.001339   0.001339   2840180.0   \n",
       "2017-11-16  0.001348  0.001424  0.001286  0.001390   0.001390   3423010.0   \n",
       "2017-11-17  0.001381  0.001394  0.001274  0.001313   0.001313   2787480.0   \n",
       "2017-11-18  0.001308  0.001385  0.001254  0.001373   0.001373   1648260.0   \n",
       "2017-11-19  0.001355  0.001421  0.001340  0.001376   0.001376   1431720.0   \n",
       "2017-11-20  0.001374  0.001428  0.001348  0.001394   0.001394   2141360.0   \n",
       "2017-11-21  0.001410  0.001446  0.001302  0.001389   0.001389   3047660.0   \n",
       "2017-11-22  0.001401  0.002053  0.001373  0.001823   0.001823  18841700.0   \n",
       "2017-11-23  0.001819  0.002246  0.001819  0.001891   0.001891  26126500.0   \n",
       "\n",
       "            rolling_price  \n",
       "Date                       \n",
       "2017-11-09            NaN  \n",
       "2017-11-10            NaN  \n",
       "2017-11-11            NaN  \n",
       "2017-11-12            NaN  \n",
       "2017-11-13            NaN  \n",
       "2017-11-14            NaN  \n",
       "2017-11-15            NaN  \n",
       "2017-11-16            NaN  \n",
       "2017-11-17            NaN  \n",
       "2017-11-18       0.001263  \n",
       "2017-11-19       0.001259  \n",
       "2017-11-20       0.001282  \n",
       "2017-11-21       0.001301  \n",
       "2017-11-22       0.001379  \n",
       "2017-11-23       0.001447  "
      ]
     },
     "execution_count": 11,
     "metadata": {},
     "output_type": "execute_result"
    }
   ],
   "source": [
    "df.head(15)"
   ]
  },
  {
   "cell_type": "markdown",
   "metadata": {},
   "source": [
    "### Et on stock notre nouveau dataset"
   ]
  },
  {
   "cell_type": "code",
   "execution_count": 12,
   "metadata": {
    "papermill": {
     "duration": 0.077761,
     "end_time": "2022-06-24T00:54:28.128071",
     "exception": false,
     "start_time": "2022-06-24T00:54:28.050310",
     "status": "completed"
    },
    "tags": []
   },
   "outputs": [],
   "source": [
    "df.to_csv('dataset.csv', index=False)"
   ]
  },
  {
   "cell_type": "markdown",
   "metadata": {
    "papermill": {
     "duration": 0.062819,
     "end_time": "2022-06-24T00:54:28.254526",
     "exception": false,
     "start_time": "2022-06-24T00:54:28.191707",
     "status": "completed"
    },
    "tags": []
   },
   "source": [
    "<a href=\"#toc\" role=\"button\" aria-pressed=\"true\" >⬆️Back to Table of Contents ⬆️</a>"
   ]
  },
  {
   "cell_type": "markdown",
   "metadata": {
    "papermill": {
     "duration": 0.065569,
     "end_time": "2022-06-24T00:54:28.384098",
     "exception": false,
     "start_time": "2022-06-24T00:54:28.318529",
     "status": "completed"
    },
    "tags": []
   },
   "source": [
    "<a id=\"4\"></a>\n",
    "# **<center><span style=\"color:#fd7b12;\"> Exploratory Data Analysis </span></center>**"
   ]
  },
  {
   "cell_type": "markdown",
   "metadata": {
    "papermill": {
     "duration": 0.063938,
     "end_time": "2022-06-24T00:54:28.511966",
     "exception": false,
     "start_time": "2022-06-24T00:54:28.448028",
     "status": "completed"
    },
    "tags": []
   },
   "source": [
    "### Définir des valeurs de style pour toutes nos visualisations"
   ]
  },
  {
   "cell_type": "code",
   "execution_count": 13,
   "metadata": {
    "papermill": {
     "duration": 0.090556,
     "end_time": "2022-06-24T00:54:28.686870",
     "exception": false,
     "start_time": "2022-06-24T00:54:28.596314",
     "status": "completed"
    },
    "tags": []
   },
   "outputs": [],
   "source": [
    "sns.set_context(\"talk\")\n",
    "sns.set_style(\"whitegrid\")\n",
    "colors = sns.color_palette('tab10')"
   ]
  },
  {
   "cell_type": "markdown",
   "metadata": {
    "papermill": {
     "duration": 0.07467,
     "end_time": "2022-06-24T00:54:41.078232",
     "exception": false,
     "start_time": "2022-06-24T00:54:41.003562",
     "status": "completed"
    },
    "tags": []
   },
   "source": [
    "### `Quel est l'évolution du Dogecoin au cours des années ?`"
   ]
  },
  {
   "cell_type": "markdown",
   "metadata": {
    "papermill": {
     "duration": 0.078622,
     "end_time": "2022-06-24T00:54:28.865132",
     "exception": false,
     "start_time": "2022-06-24T00:54:28.786510",
     "status": "completed"
    },
    "tags": []
   },
   "source": [
    "### Pour faire une bonne analyse nous considérerons juste la moyenne mobile"
   ]
  },
  {
   "cell_type": "code",
   "execution_count": 14,
   "metadata": {
    "papermill": {
     "duration": 0.425054,
     "end_time": "2022-06-24T00:54:29.501580",
     "exception": false,
     "start_time": "2022-06-24T00:54:29.076526",
     "status": "completed"
    },
    "tags": []
   },
   "outputs": [
    {
     "data": {
      "image/png": "[encoded data removed]",
      "text/plain": [
       "<Figure size 720x576 with 1 Axes>"
      ]
     },
     "metadata": {},
     "output_type": "display_data"
    }
   ],
   "source": [
    "plt.figure(figsize=(10,8))\n",
    "sns.lineplot(x=df.index, y=df.rolling_price, palette=colors)\n",
    "plt.title('Évolution du Dogecoin de 2018 à 2022 ')\n",
    "plt.xlabel('Année')\n",
    "plt.ylabel('Prix')\n",
    "plt.show()"
   ]
  },
  {
   "cell_type": "markdown",
   "metadata": {
    "papermill": {
     "duration": 0.064029,
     "end_time": "2022-06-24T00:54:29.634553",
     "exception": false,
     "start_time": "2022-06-24T00:54:29.570524",
     "status": "completed"
    },
    "tags": []
   },
   "source": [
    "> ### On conctate que de 2018 à 2020, la courbe d'évolution du dogecoin était stable. Mais à partir de 2021, il a connu un boom impressionnat passant de 0.0045 à 0.5. Il a pris, 100x plus de valeurs. En consultant sur Internet, on remarque que celà est lié a l'influence de Elon Musk sur les prix du marché. Nous ferons une étude beaucoup plus en profondeur sur cette période. Aussi, courant 2021, le prix du dogecoin a atteint son ATH. "
   ]
  },
  {
   "cell_type": "markdown",
   "metadata": {
    "papermill": {
     "duration": 0.063998,
     "end_time": "2022-06-24T00:54:29.766257",
     "exception": false,
     "start_time": "2022-06-24T00:54:29.702259",
     "status": "completed"
    },
    "tags": []
   },
   "source": [
    "### Créons de nouvelles variables pour faciliter nos recherches"
   ]
  },
  {
   "cell_type": "code",
   "execution_count": 15,
   "metadata": {},
   "outputs": [],
   "source": [
    "df['Year']=df.index.year\n",
    "df['Month']=df.index.month\n",
    "df['Day']=df.index.day\n",
    "df['Day_name'] = df.index.day_name()"
   ]
  },
  {
   "cell_type": "code",
   "execution_count": 16,
   "metadata": {},
   "outputs": [
    {
     "data": {
      "text/html": [
       "<div>\n",
       "<style scoped>\n",
       "    .dataframe tbody tr th:only-of-type {\n",
       "        vertical-align: middle;\n",
       "    }\n",
       "\n",
       "    .dataframe tbody tr th {\n",
       "        vertical-align: top;\n",
       "    }\n",
       "\n",
       "    .dataframe thead th {\n",
       "        text-align: right;\n",
       "    }\n",
       "</style>\n",
       "<table border=\"1\" class=\"dataframe\">\n",
       "  <thead>\n",
       "    <tr style=\"text-align: right;\">\n",
       "      <th></th>\n",
       "      <th>Open</th>\n",
       "      <th>High</th>\n",
       "      <th>Low</th>\n",
       "      <th>Close</th>\n",
       "      <th>Adj Close</th>\n",
       "      <th>Volume</th>\n",
       "      <th>rolling_price</th>\n",
       "      <th>Year</th>\n",
       "      <th>Month</th>\n",
       "      <th>Day</th>\n",
       "      <th>Day_name</th>\n",
       "    </tr>\n",
       "    <tr>\n",
       "      <th>Date</th>\n",
       "      <th></th>\n",
       "      <th></th>\n",
       "      <th></th>\n",
       "      <th></th>\n",
       "      <th></th>\n",
       "      <th></th>\n",
       "      <th></th>\n",
       "      <th></th>\n",
       "      <th></th>\n",
       "      <th></th>\n",
       "      <th></th>\n",
       "    </tr>\n",
       "  </thead>\n",
       "  <tbody>\n",
       "    <tr>\n",
       "      <th>2021-04-03</th>\n",
       "      <td>0.057658</td>\n",
       "      <td>0.059484</td>\n",
       "      <td>0.055804</td>\n",
       "      <td>0.055804</td>\n",
       "      <td>0.055804</td>\n",
       "      <td>1.136931e+09</td>\n",
       "      <td>0.055054</td>\n",
       "      <td>2021</td>\n",
       "      <td>4</td>\n",
       "      <td>3</td>\n",
       "      <td>Saturday</td>\n",
       "    </tr>\n",
       "    <tr>\n",
       "      <th>2019-04-06</th>\n",
       "      <td>0.003594</td>\n",
       "      <td>0.003594</td>\n",
       "      <td>0.003415</td>\n",
       "      <td>0.003439</td>\n",
       "      <td>0.003439</td>\n",
       "      <td>4.634381e+07</td>\n",
       "      <td>0.002747</td>\n",
       "      <td>2019</td>\n",
       "      <td>4</td>\n",
       "      <td>6</td>\n",
       "      <td>Saturday</td>\n",
       "    </tr>\n",
       "    <tr>\n",
       "      <th>2020-04-08</th>\n",
       "      <td>0.001986</td>\n",
       "      <td>0.002044</td>\n",
       "      <td>0.001960</td>\n",
       "      <td>0.002012</td>\n",
       "      <td>0.002012</td>\n",
       "      <td>1.162834e+08</td>\n",
       "      <td>0.001898</td>\n",
       "      <td>2020</td>\n",
       "      <td>4</td>\n",
       "      <td>8</td>\n",
       "      <td>Wednesday</td>\n",
       "    </tr>\n",
       "    <tr>\n",
       "      <th>2019-07-27</th>\n",
       "      <td>0.002923</td>\n",
       "      <td>0.003030</td>\n",
       "      <td>0.002797</td>\n",
       "      <td>0.002823</td>\n",
       "      <td>0.002823</td>\n",
       "      <td>2.090118e+07</td>\n",
       "      <td>0.002983</td>\n",
       "      <td>2019</td>\n",
       "      <td>7</td>\n",
       "      <td>27</td>\n",
       "      <td>Saturday</td>\n",
       "    </tr>\n",
       "    <tr>\n",
       "      <th>2019-12-30</th>\n",
       "      <td>0.002070</td>\n",
       "      <td>0.002077</td>\n",
       "      <td>0.002043</td>\n",
       "      <td>0.002054</td>\n",
       "      <td>0.002054</td>\n",
       "      <td>7.317119e+07</td>\n",
       "      <td>0.002073</td>\n",
       "      <td>2019</td>\n",
       "      <td>12</td>\n",
       "      <td>30</td>\n",
       "      <td>Monday</td>\n",
       "    </tr>\n",
       "  </tbody>\n",
       "</table>\n",
       "</div>"
      ],
      "text/plain": [
       "                Open      High       Low     Close  Adj Close        Volume  \\\n",
       "Date                                                                          \n",
       "2021-04-03  0.057658  0.059484  0.055804  0.055804   0.055804  1.136931e+09   \n",
       "2019-04-06  0.003594  0.003594  0.003415  0.003439   0.003439  4.634381e+07   \n",
       "2020-04-08  0.001986  0.002044  0.001960  0.002012   0.002012  1.162834e+08   \n",
       "2019-07-27  0.002923  0.003030  0.002797  0.002823   0.002823  2.090118e+07   \n",
       "2019-12-30  0.002070  0.002077  0.002043  0.002054   0.002054  7.317119e+07   \n",
       "\n",
       "            rolling_price  Year  Month  Day   Day_name  \n",
       "Date                                                    \n",
       "2021-04-03       0.055054  2021      4    3   Saturday  \n",
       "2019-04-06       0.002747  2019      4    6   Saturday  \n",
       "2020-04-08       0.001898  2020      4    8  Wednesday  \n",
       "2019-07-27       0.002983  2019      7   27   Saturday  \n",
       "2019-12-30       0.002073  2019     12   30     Monday  "
      ]
     },
     "execution_count": 16,
     "metadata": {},
     "output_type": "execute_result"
    }
   ],
   "source": [
    "df.sample(5)"
   ]
  },
  {
   "cell_type": "markdown",
   "metadata": {},
   "source": [
    "### Faisons un encodage des mois"
   ]
  },
  {
   "cell_type": "code",
   "execution_count": 17,
   "metadata": {},
   "outputs": [
    {
     "data": {
      "text/html": [
       "<div>\n",
       "<style scoped>\n",
       "    .dataframe tbody tr th:only-of-type {\n",
       "        vertical-align: middle;\n",
       "    }\n",
       "\n",
       "    .dataframe tbody tr th {\n",
       "        vertical-align: top;\n",
       "    }\n",
       "\n",
       "    .dataframe thead th {\n",
       "        text-align: right;\n",
       "    }\n",
       "</style>\n",
       "<table border=\"1\" class=\"dataframe\">\n",
       "  <thead>\n",
       "    <tr style=\"text-align: right;\">\n",
       "      <th></th>\n",
       "      <th>Open</th>\n",
       "      <th>High</th>\n",
       "      <th>Low</th>\n",
       "      <th>Close</th>\n",
       "      <th>Adj Close</th>\n",
       "      <th>Volume</th>\n",
       "      <th>rolling_price</th>\n",
       "      <th>Year</th>\n",
       "      <th>Month</th>\n",
       "      <th>Day</th>\n",
       "      <th>Day_name</th>\n",
       "    </tr>\n",
       "    <tr>\n",
       "      <th>Date</th>\n",
       "      <th></th>\n",
       "      <th></th>\n",
       "      <th></th>\n",
       "      <th></th>\n",
       "      <th></th>\n",
       "      <th></th>\n",
       "      <th></th>\n",
       "      <th></th>\n",
       "      <th></th>\n",
       "      <th></th>\n",
       "      <th></th>\n",
       "    </tr>\n",
       "  </thead>\n",
       "  <tbody>\n",
       "    <tr>\n",
       "      <th>2022-07-05</th>\n",
       "      <td>0.069431</td>\n",
       "      <td>0.069841</td>\n",
       "      <td>0.065697</td>\n",
       "      <td>0.067155</td>\n",
       "      <td>0.067155</td>\n",
       "      <td>4.032207e+08</td>\n",
       "      <td>0.068361</td>\n",
       "      <td>2022</td>\n",
       "      <td>Jul</td>\n",
       "      <td>5</td>\n",
       "      <td>Tuesday</td>\n",
       "    </tr>\n",
       "    <tr>\n",
       "      <th>2019-09-24</th>\n",
       "      <td>0.002489</td>\n",
       "      <td>0.002502</td>\n",
       "      <td>0.002077</td>\n",
       "      <td>0.002228</td>\n",
       "      <td>0.002228</td>\n",
       "      <td>5.604835e+07</td>\n",
       "      <td>0.002551</td>\n",
       "      <td>2019</td>\n",
       "      <td>Sep</td>\n",
       "      <td>24</td>\n",
       "      <td>Tuesday</td>\n",
       "    </tr>\n",
       "    <tr>\n",
       "      <th>2021-07-16</th>\n",
       "      <td>0.185238</td>\n",
       "      <td>0.188322</td>\n",
       "      <td>0.171612</td>\n",
       "      <td>0.172345</td>\n",
       "      <td>0.172345</td>\n",
       "      <td>1.144730e+09</td>\n",
       "      <td>0.204397</td>\n",
       "      <td>2021</td>\n",
       "      <td>Jul</td>\n",
       "      <td>16</td>\n",
       "      <td>Friday</td>\n",
       "    </tr>\n",
       "    <tr>\n",
       "      <th>2020-01-28</th>\n",
       "      <td>0.002365</td>\n",
       "      <td>0.002450</td>\n",
       "      <td>0.002363</td>\n",
       "      <td>0.002450</td>\n",
       "      <td>0.002450</td>\n",
       "      <td>9.152877e+07</td>\n",
       "      <td>0.002340</td>\n",
       "      <td>2020</td>\n",
       "      <td>Jan</td>\n",
       "      <td>28</td>\n",
       "      <td>Tuesday</td>\n",
       "    </tr>\n",
       "    <tr>\n",
       "      <th>2020-03-10</th>\n",
       "      <td>0.002217</td>\n",
       "      <td>0.002263</td>\n",
       "      <td>0.002166</td>\n",
       "      <td>0.002207</td>\n",
       "      <td>0.002207</td>\n",
       "      <td>1.154316e+08</td>\n",
       "      <td>0.002354</td>\n",
       "      <td>2020</td>\n",
       "      <td>Mar</td>\n",
       "      <td>10</td>\n",
       "      <td>Tuesday</td>\n",
       "    </tr>\n",
       "  </tbody>\n",
       "</table>\n",
       "</div>"
      ],
      "text/plain": [
       "                Open      High       Low     Close  Adj Close        Volume  \\\n",
       "Date                                                                          \n",
       "2022-07-05  0.069431  0.069841  0.065697  0.067155   0.067155  4.032207e+08   \n",
       "2019-09-24  0.002489  0.002502  0.002077  0.002228   0.002228  5.604835e+07   \n",
       "2021-07-16  0.185238  0.188322  0.171612  0.172345   0.172345  1.144730e+09   \n",
       "2020-01-28  0.002365  0.002450  0.002363  0.002450   0.002450  9.152877e+07   \n",
       "2020-03-10  0.002217  0.002263  0.002166  0.002207   0.002207  1.154316e+08   \n",
       "\n",
       "            rolling_price  Year Month  Day Day_name  \n",
       "Date                                                 \n",
       "2022-07-05       0.068361  2022   Jul    5  Tuesday  \n",
       "2019-09-24       0.002551  2019   Sep   24  Tuesday  \n",
       "2021-07-16       0.204397  2021   Jul   16   Friday  \n",
       "2020-01-28       0.002340  2020   Jan   28  Tuesday  \n",
       "2020-03-10       0.002354  2020   Mar   10  Tuesday  "
      ]
     },
     "execution_count": 17,
     "metadata": {},
     "output_type": "execute_result"
    }
   ],
   "source": [
    "df.Month.replace({1:'Jan', 2: 'Feb', 3: 'Mar', 4:'Apr',\n",
    "                5:'May', 6:'Jun', 7:'Jul', 8:'Aug',\n",
    "                 9:'Sep',10:'Oct',11:'Nov',12:'Dec'}, inplace=True)\n",
    "df.sample(5)"
   ]
  },
  {
   "cell_type": "markdown",
   "metadata": {},
   "source": [
    "### Commençons maintenant notre analyse en profondeur en démarrant par 2020"
   ]
  },
  {
   "cell_type": "code",
   "execution_count": 18,
   "metadata": {},
   "outputs": [
    {
     "data": {
      "text/html": [
       "<div>\n",
       "<style scoped>\n",
       "    .dataframe tbody tr th:only-of-type {\n",
       "        vertical-align: middle;\n",
       "    }\n",
       "\n",
       "    .dataframe tbody tr th {\n",
       "        vertical-align: top;\n",
       "    }\n",
       "\n",
       "    .dataframe thead th {\n",
       "        text-align: right;\n",
       "    }\n",
       "</style>\n",
       "<table border=\"1\" class=\"dataframe\">\n",
       "  <thead>\n",
       "    <tr style=\"text-align: right;\">\n",
       "      <th></th>\n",
       "      <th>Open</th>\n",
       "      <th>High</th>\n",
       "      <th>Low</th>\n",
       "      <th>Close</th>\n",
       "      <th>Adj Close</th>\n",
       "      <th>Volume</th>\n",
       "      <th>rolling_price</th>\n",
       "      <th>Year</th>\n",
       "      <th>Month</th>\n",
       "      <th>Day</th>\n",
       "      <th>Day_name</th>\n",
       "    </tr>\n",
       "    <tr>\n",
       "      <th>Date</th>\n",
       "      <th></th>\n",
       "      <th></th>\n",
       "      <th></th>\n",
       "      <th></th>\n",
       "      <th></th>\n",
       "      <th></th>\n",
       "      <th></th>\n",
       "      <th></th>\n",
       "      <th></th>\n",
       "      <th></th>\n",
       "      <th></th>\n",
       "    </tr>\n",
       "  </thead>\n",
       "  <tbody>\n",
       "    <tr>\n",
       "      <th>2020-10-07</th>\n",
       "      <td>0.002593</td>\n",
       "      <td>0.002612</td>\n",
       "      <td>0.002565</td>\n",
       "      <td>0.002595</td>\n",
       "      <td>0.002595</td>\n",
       "      <td>125523508.0</td>\n",
       "      <td>0.002622</td>\n",
       "      <td>2020</td>\n",
       "      <td>Oct</td>\n",
       "      <td>7</td>\n",
       "      <td>Wednesday</td>\n",
       "    </tr>\n",
       "    <tr>\n",
       "      <th>2020-12-02</th>\n",
       "      <td>0.003335</td>\n",
       "      <td>0.003436</td>\n",
       "      <td>0.003293</td>\n",
       "      <td>0.003374</td>\n",
       "      <td>0.003374</td>\n",
       "      <td>58705661.0</td>\n",
       "      <td>0.003522</td>\n",
       "      <td>2020</td>\n",
       "      <td>Dec</td>\n",
       "      <td>2</td>\n",
       "      <td>Wednesday</td>\n",
       "    </tr>\n",
       "    <tr>\n",
       "      <th>2020-08-23</th>\n",
       "      <td>0.003438</td>\n",
       "      <td>0.003453</td>\n",
       "      <td>0.003388</td>\n",
       "      <td>0.003414</td>\n",
       "      <td>0.003414</td>\n",
       "      <td>39485548.0</td>\n",
       "      <td>0.003486</td>\n",
       "      <td>2020</td>\n",
       "      <td>Aug</td>\n",
       "      <td>23</td>\n",
       "      <td>Sunday</td>\n",
       "    </tr>\n",
       "    <tr>\n",
       "      <th>2020-01-29</th>\n",
       "      <td>0.002451</td>\n",
       "      <td>0.002471</td>\n",
       "      <td>0.002390</td>\n",
       "      <td>0.002390</td>\n",
       "      <td>0.002390</td>\n",
       "      <td>80676219.0</td>\n",
       "      <td>0.002339</td>\n",
       "      <td>2020</td>\n",
       "      <td>Jan</td>\n",
       "      <td>29</td>\n",
       "      <td>Wednesday</td>\n",
       "    </tr>\n",
       "    <tr>\n",
       "      <th>2020-09-25</th>\n",
       "      <td>0.002628</td>\n",
       "      <td>0.002721</td>\n",
       "      <td>0.002616</td>\n",
       "      <td>0.002698</td>\n",
       "      <td>0.002698</td>\n",
       "      <td>124575712.0</td>\n",
       "      <td>0.002719</td>\n",
       "      <td>2020</td>\n",
       "      <td>Sep</td>\n",
       "      <td>25</td>\n",
       "      <td>Friday</td>\n",
       "    </tr>\n",
       "  </tbody>\n",
       "</table>\n",
       "</div>"
      ],
      "text/plain": [
       "                Open      High       Low     Close  Adj Close       Volume  \\\n",
       "Date                                                                         \n",
       "2020-10-07  0.002593  0.002612  0.002565  0.002595   0.002595  125523508.0   \n",
       "2020-12-02  0.003335  0.003436  0.003293  0.003374   0.003374   58705661.0   \n",
       "2020-08-23  0.003438  0.003453  0.003388  0.003414   0.003414   39485548.0   \n",
       "2020-01-29  0.002451  0.002471  0.002390  0.002390   0.002390   80676219.0   \n",
       "2020-09-25  0.002628  0.002721  0.002616  0.002698   0.002698  124575712.0   \n",
       "\n",
       "            rolling_price  Year Month  Day   Day_name  \n",
       "Date                                                   \n",
       "2020-10-07       0.002622  2020   Oct    7  Wednesday  \n",
       "2020-12-02       0.003522  2020   Dec    2  Wednesday  \n",
       "2020-08-23       0.003486  2020   Aug   23     Sunday  \n",
       "2020-01-29       0.002339  2020   Jan   29  Wednesday  \n",
       "2020-09-25       0.002719  2020   Sep   25     Friday  "
      ]
     },
     "execution_count": 18,
     "metadata": {},
     "output_type": "execute_result"
    }
   ],
   "source": [
    "df_2020 = df.query('Year==2020')\n",
    "df_2020.sample(5)"
   ]
  },
  {
   "cell_type": "code",
   "execution_count": 19,
   "metadata": {},
   "outputs": [
    {
     "data": {
      "text/plain": [
       "Text(0, 0.5, 'Prix')"
      ]
     },
     "execution_count": 19,
     "metadata": {},
     "output_type": "execute_result"
    },
    {
     "data": {
      "image/png": "[encoded data removed]",
      "text/plain": [
       "<Figure size 720x576 with 1 Axes>"
      ]
     },
     "metadata": {},
     "output_type": "display_data"
    }
   ],
   "source": [
    "plt.figure(figsize=(10,8))\n",
    "sns.lineplot(x=df_2020.Month, y=df_2020.rolling_price, palette=colors, ci=None)\n",
    "plt.axhline(0.00270, c='r')\n",
    "plt.annotate('Support avant annonce', xy=(0.05, 0.00275),fontsize=14)\n",
    "plt.title('Evolution du Dogecoin en 2020 ')\n",
    "plt.xlabel('Mois')\n",
    "plt.ylabel('Prix')"
   ]
  },
  {
   "cell_type": "markdown",
   "metadata": {
    "papermill": {
     "duration": 0.061442,
     "end_time": "2022-06-24T00:54:30.220519",
     "exception": false,
     "start_time": "2022-06-24T00:54:30.159077",
     "status": "completed"
    },
    "tags": []
   },
   "source": [
    "> ### Effectivement, c'est la communication de Elon Musk, qui a fait que en Juin, le prix du dogecoin est monté jusqu'à un pic de +0.00350 en 2020."
   ]
  },
  {
   "cell_type": "markdown",
   "metadata": {},
   "source": [
    "### Observons maintenant comment cette évolution a perduré en 2021"
   ]
  },
  {
   "cell_type": "code",
   "execution_count": 20,
   "metadata": {},
   "outputs": [
    {
     "data": {
      "text/html": [
       "<div>\n",
       "<style scoped>\n",
       "    .dataframe tbody tr th:only-of-type {\n",
       "        vertical-align: middle;\n",
       "    }\n",
       "\n",
       "    .dataframe tbody tr th {\n",
       "        vertical-align: top;\n",
       "    }\n",
       "\n",
       "    .dataframe thead th {\n",
       "        text-align: right;\n",
       "    }\n",
       "</style>\n",
       "<table border=\"1\" class=\"dataframe\">\n",
       "  <thead>\n",
       "    <tr style=\"text-align: right;\">\n",
       "      <th></th>\n",
       "      <th>Open</th>\n",
       "      <th>High</th>\n",
       "      <th>Low</th>\n",
       "      <th>Close</th>\n",
       "      <th>Adj Close</th>\n",
       "      <th>Volume</th>\n",
       "      <th>rolling_price</th>\n",
       "      <th>Year</th>\n",
       "      <th>Month</th>\n",
       "      <th>Day</th>\n",
       "      <th>Day_name</th>\n",
       "    </tr>\n",
       "    <tr>\n",
       "      <th>Date</th>\n",
       "      <th></th>\n",
       "      <th></th>\n",
       "      <th></th>\n",
       "      <th></th>\n",
       "      <th></th>\n",
       "      <th></th>\n",
       "      <th></th>\n",
       "      <th></th>\n",
       "      <th></th>\n",
       "      <th></th>\n",
       "      <th></th>\n",
       "    </tr>\n",
       "  </thead>\n",
       "  <tbody>\n",
       "    <tr>\n",
       "      <th>2021-09-16</th>\n",
       "      <td>0.247542</td>\n",
       "      <td>0.247733</td>\n",
       "      <td>0.233852</td>\n",
       "      <td>0.242555</td>\n",
       "      <td>0.242555</td>\n",
       "      <td>1.140048e+09</td>\n",
       "      <td>0.246235</td>\n",
       "      <td>2021</td>\n",
       "      <td>Sep</td>\n",
       "      <td>16</td>\n",
       "      <td>Thursday</td>\n",
       "    </tr>\n",
       "    <tr>\n",
       "      <th>2021-06-13</th>\n",
       "      <td>0.312485</td>\n",
       "      <td>0.330026</td>\n",
       "      <td>0.307892</td>\n",
       "      <td>0.324382</td>\n",
       "      <td>0.324382</td>\n",
       "      <td>1.484851e+09</td>\n",
       "      <td>0.340455</td>\n",
       "      <td>2021</td>\n",
       "      <td>Jun</td>\n",
       "      <td>13</td>\n",
       "      <td>Sunday</td>\n",
       "    </tr>\n",
       "    <tr>\n",
       "      <th>2021-10-03</th>\n",
       "      <td>0.218811</td>\n",
       "      <td>0.226228</td>\n",
       "      <td>0.215872</td>\n",
       "      <td>0.221748</td>\n",
       "      <td>0.221748</td>\n",
       "      <td>1.070268e+09</td>\n",
       "      <td>0.208713</td>\n",
       "      <td>2021</td>\n",
       "      <td>Oct</td>\n",
       "      <td>3</td>\n",
       "      <td>Sunday</td>\n",
       "    </tr>\n",
       "    <tr>\n",
       "      <th>2021-05-17</th>\n",
       "      <td>0.513413</td>\n",
       "      <td>0.515221</td>\n",
       "      <td>0.458551</td>\n",
       "      <td>0.487892</td>\n",
       "      <td>0.487892</td>\n",
       "      <td>7.330831e+09</td>\n",
       "      <td>0.509782</td>\n",
       "      <td>2021</td>\n",
       "      <td>May</td>\n",
       "      <td>17</td>\n",
       "      <td>Monday</td>\n",
       "    </tr>\n",
       "    <tr>\n",
       "      <th>2021-04-12</th>\n",
       "      <td>0.074544</td>\n",
       "      <td>0.074986</td>\n",
       "      <td>0.068889</td>\n",
       "      <td>0.070767</td>\n",
       "      <td>0.070767</td>\n",
       "      <td>2.687720e+09</td>\n",
       "      <td>0.062880</td>\n",
       "      <td>2021</td>\n",
       "      <td>Apr</td>\n",
       "      <td>12</td>\n",
       "      <td>Monday</td>\n",
       "    </tr>\n",
       "  </tbody>\n",
       "</table>\n",
       "</div>"
      ],
      "text/plain": [
       "                Open      High       Low     Close  Adj Close        Volume  \\\n",
       "Date                                                                          \n",
       "2021-09-16  0.247542  0.247733  0.233852  0.242555   0.242555  1.140048e+09   \n",
       "2021-06-13  0.312485  0.330026  0.307892  0.324382   0.324382  1.484851e+09   \n",
       "2021-10-03  0.218811  0.226228  0.215872  0.221748   0.221748  1.070268e+09   \n",
       "2021-05-17  0.513413  0.515221  0.458551  0.487892   0.487892  7.330831e+09   \n",
       "2021-04-12  0.074544  0.074986  0.068889  0.070767   0.070767  2.687720e+09   \n",
       "\n",
       "            rolling_price  Year Month  Day  Day_name  \n",
       "Date                                                  \n",
       "2021-09-16       0.246235  2021   Sep   16  Thursday  \n",
       "2021-06-13       0.340455  2021   Jun   13    Sunday  \n",
       "2021-10-03       0.208713  2021   Oct    3    Sunday  \n",
       "2021-05-17       0.509782  2021   May   17    Monday  \n",
       "2021-04-12       0.062880  2021   Apr   12    Monday  "
      ]
     },
     "execution_count": 20,
     "metadata": {},
     "output_type": "execute_result"
    }
   ],
   "source": [
    "df_2021 = df.query('Year==2021')\n",
    "df_2021.sample(5)"
   ]
  },
  {
   "cell_type": "code",
   "execution_count": 21,
   "metadata": {},
   "outputs": [
    {
     "data": {
      "image/png": "[encoded data removed]",
      "text/plain": [
       "<Figure size 720x576 with 1 Axes>"
      ]
     },
     "metadata": {},
     "output_type": "display_data"
    }
   ],
   "source": [
    "plt.figure(figsize=(10,8))\n",
    "sns.lineplot(x=df_2021.Month, y=df_2021.rolling_price, palette=colors,ci=False)\n",
    "plt.title('Evolution du Dogecoin en 2021 ')\n",
    "plt.xlabel('Mois')\n",
    "plt.ylabel('Prix')\n",
    "plt.axhline(0.435, c='r')\n",
    "plt.ylim(0,0.48)\n",
    "plt.annotate('All Time High',xy=(0.5,0.445),fontsize=14)\n",
    "plt.show()"
   ]
  },
  {
   "cell_type": "markdown",
   "metadata": {
    "papermill": {
     "duration": 0.061442,
     "end_time": "2022-06-24T00:54:30.220519",
     "exception": false,
     "start_time": "2022-06-24T00:54:30.159077",
     "status": "completed"
    },
    "tags": []
   },
   "source": [
    "> ### Le prix a continué a évoluer jusqu'en Mai 2021 avant de retomber tout le reste de l'année sans jamais remonter au support situé a 0.4"
   ]
  },
  {
   "cell_type": "markdown",
   "metadata": {},
   "source": [
    "### Et en 2022?"
   ]
  },
  {
   "cell_type": "code",
   "execution_count": 22,
   "metadata": {},
   "outputs": [
    {
     "data": {
      "text/html": [
       "<div>\n",
       "<style scoped>\n",
       "    .dataframe tbody tr th:only-of-type {\n",
       "        vertical-align: middle;\n",
       "    }\n",
       "\n",
       "    .dataframe tbody tr th {\n",
       "        vertical-align: top;\n",
       "    }\n",
       "\n",
       "    .dataframe thead th {\n",
       "        text-align: right;\n",
       "    }\n",
       "</style>\n",
       "<table border=\"1\" class=\"dataframe\">\n",
       "  <thead>\n",
       "    <tr style=\"text-align: right;\">\n",
       "      <th></th>\n",
       "      <th>Open</th>\n",
       "      <th>High</th>\n",
       "      <th>Low</th>\n",
       "      <th>Close</th>\n",
       "      <th>Adj Close</th>\n",
       "      <th>Volume</th>\n",
       "      <th>rolling_price</th>\n",
       "      <th>Year</th>\n",
       "      <th>Month</th>\n",
       "      <th>Day</th>\n",
       "      <th>Day_name</th>\n",
       "    </tr>\n",
       "    <tr>\n",
       "      <th>Date</th>\n",
       "      <th></th>\n",
       "      <th></th>\n",
       "      <th></th>\n",
       "      <th></th>\n",
       "      <th></th>\n",
       "      <th></th>\n",
       "      <th></th>\n",
       "      <th></th>\n",
       "      <th></th>\n",
       "      <th></th>\n",
       "      <th></th>\n",
       "    </tr>\n",
       "  </thead>\n",
       "  <tbody>\n",
       "    <tr>\n",
       "      <th>2022-07-03</th>\n",
       "      <td>0.066698</td>\n",
       "      <td>0.067356</td>\n",
       "      <td>0.065111</td>\n",
       "      <td>0.067179</td>\n",
       "      <td>0.067179</td>\n",
       "      <td>2.808782e+08</td>\n",
       "      <td>0.068261</td>\n",
       "      <td>2022</td>\n",
       "      <td>Jul</td>\n",
       "      <td>3</td>\n",
       "      <td>Sunday</td>\n",
       "    </tr>\n",
       "    <tr>\n",
       "      <th>2022-06-24</th>\n",
       "      <td>0.064019</td>\n",
       "      <td>0.068162</td>\n",
       "      <td>0.064004</td>\n",
       "      <td>0.067124</td>\n",
       "      <td>0.067124</td>\n",
       "      <td>5.147294e+08</td>\n",
       "      <td>0.060705</td>\n",
       "      <td>2022</td>\n",
       "      <td>Jun</td>\n",
       "      <td>24</td>\n",
       "      <td>Friday</td>\n",
       "    </tr>\n",
       "    <tr>\n",
       "      <th>2022-05-18</th>\n",
       "      <td>0.090221</td>\n",
       "      <td>0.090797</td>\n",
       "      <td>0.083649</td>\n",
       "      <td>0.083649</td>\n",
       "      <td>0.083649</td>\n",
       "      <td>5.582578e+08</td>\n",
       "      <td>0.091323</td>\n",
       "      <td>2022</td>\n",
       "      <td>May</td>\n",
       "      <td>18</td>\n",
       "      <td>Wednesday</td>\n",
       "    </tr>\n",
       "    <tr>\n",
       "      <th>2022-02-13</th>\n",
       "      <td>0.144379</td>\n",
       "      <td>0.157354</td>\n",
       "      <td>0.144031</td>\n",
       "      <td>0.148948</td>\n",
       "      <td>0.148948</td>\n",
       "      <td>1.581065e+09</td>\n",
       "      <td>0.152161</td>\n",
       "      <td>2022</td>\n",
       "      <td>Feb</td>\n",
       "      <td>13</td>\n",
       "      <td>Sunday</td>\n",
       "    </tr>\n",
       "    <tr>\n",
       "      <th>2022-02-28</th>\n",
       "      <td>0.123118</td>\n",
       "      <td>0.134479</td>\n",
       "      <td>0.121954</td>\n",
       "      <td>0.133156</td>\n",
       "      <td>0.133156</td>\n",
       "      <td>7.657559e+08</td>\n",
       "      <td>0.130127</td>\n",
       "      <td>2022</td>\n",
       "      <td>Feb</td>\n",
       "      <td>28</td>\n",
       "      <td>Monday</td>\n",
       "    </tr>\n",
       "  </tbody>\n",
       "</table>\n",
       "</div>"
      ],
      "text/plain": [
       "                Open      High       Low     Close  Adj Close        Volume  \\\n",
       "Date                                                                          \n",
       "2022-07-03  0.066698  0.067356  0.065111  0.067179   0.067179  2.808782e+08   \n",
       "2022-06-24  0.064019  0.068162  0.064004  0.067124   0.067124  5.147294e+08   \n",
       "2022-05-18  0.090221  0.090797  0.083649  0.083649   0.083649  5.582578e+08   \n",
       "2022-02-13  0.144379  0.157354  0.144031  0.148948   0.148948  1.581065e+09   \n",
       "2022-02-28  0.123118  0.134479  0.121954  0.133156   0.133156  7.657559e+08   \n",
       "\n",
       "            rolling_price  Year Month  Day   Day_name  \n",
       "Date                                                   \n",
       "2022-07-03       0.068261  2022   Jul    3     Sunday  \n",
       "2022-06-24       0.060705  2022   Jun   24     Friday  \n",
       "2022-05-18       0.091323  2022   May   18  Wednesday  \n",
       "2022-02-13       0.152161  2022   Feb   13     Sunday  \n",
       "2022-02-28       0.130127  2022   Feb   28     Monday  "
      ]
     },
     "execution_count": 22,
     "metadata": {},
     "output_type": "execute_result"
    }
   ],
   "source": [
    "df_2022 = df.query('Year==2022')\n",
    "df_2022.sample(5)"
   ]
  },
  {
   "cell_type": "code",
   "execution_count": 23,
   "metadata": {},
   "outputs": [
    {
     "data": {
      "text/plain": [
       "Text(0, 0.5, 'Prix')"
      ]
     },
     "execution_count": 23,
     "metadata": {},
     "output_type": "execute_result"
    },
    {
     "data": {
      "image/png": "[encoded data removed]",
      "text/plain": [
       "<Figure size 720x576 with 1 Axes>"
      ]
     },
     "metadata": {},
     "output_type": "display_data"
    }
   ],
   "source": [
    "plt.figure(figsize=(10,8))\n",
    "sns.lineplot(x=df_2022.Month, y=df_2022.rolling_price, palette=colors, ci=False)\n",
    "plt.title('Evolution du Dogecoin en 2022 ')\n",
    "plt.xlabel('Mois')\n",
    "plt.ylabel('Prix')"
   ]
  },
  {
   "cell_type": "markdown",
   "metadata": {
    "papermill": {
     "duration": 0.061442,
     "end_time": "2022-06-24T00:54:30.220519",
     "exception": false,
     "start_time": "2022-06-24T00:54:30.159077",
     "status": "completed"
    },
    "tags": []
   },
   "source": [
    "> ### Et le prix continue par décroitre."
   ]
  },
  {
   "cell_type": "markdown",
   "metadata": {
    "papermill": {
     "duration": 0.380969,
     "end_time": "2022-06-24T01:05:07.906961",
     "exception": false,
     "start_time": "2022-06-24T01:05:07.525992",
     "status": "completed"
    },
    "tags": []
   },
   "source": [
    "<a href=\"#toc\" role=\"button\" aria-pressed=\"true\" >⬆️Back to Table of Contents ⬆️</a>"
   ]
  },
  {
   "cell_type": "markdown",
   "metadata": {
    "papermill": {
     "duration": 0.310371,
     "end_time": "2022-06-24T01:05:08.533407",
     "exception": false,
     "start_time": "2022-06-24T01:05:08.223036",
     "status": "completed"
    },
    "tags": []
   },
   "source": [
    "<a id=\"6\"></a>\n",
    "# **<center><span style=\"color:#fd7b12;\">Conclusion </span></center>**"
   ]
  },
  {
   "cell_type": "markdown",
   "metadata": {
    "papermill": {
     "duration": 0.320171,
     "end_time": "2022-06-24T01:05:09.167292",
     "exception": false,
     "start_time": "2022-06-24T01:05:08.847121",
     "status": "completed"
    },
    "tags": []
   },
   "source": [
    "### `Quel est l'évolution du Dogecoin au cours des années ?`"
   ]
  },
  {
   "cell_type": "markdown",
   "metadata": {
    "papermill": {
     "duration": 0.311214,
     "end_time": "2022-06-24T01:05:09.788804",
     "exception": false,
     "start_time": "2022-06-24T01:05:09.477590",
     "status": "completed"
    },
    "tags": []
   },
   "source": [
    "> ### De 2018 à 2020, la courbe d'évolution du dogecoin était stable. Mais à partir de 2021, il a connu un boom impressionnat passant de 0.0045 à 0.5. Il a pris, 100x plus de valeurs. En consultant sur Internet, on remarque que celà est lié a l'influence de Elon Musk sur le prix du marché en Juin 2020. Ce boom a conduit le Dogecoin jusqu'à son ATH en fin Mai 2021 avant de reperdre de la valeur d'une manière très importante, -40%."
   ]
  },
  {
   "cell_type": "markdown",
   "metadata": {
    "papermill": {
     "duration": 0.323454,
     "end_time": "2022-06-24T01:05:19.660564",
     "exception": false,
     "start_time": "2022-06-24T01:05:19.337110",
     "status": "completed"
    },
    "tags": []
   },
   "source": [
    "<a href=\"#toc\" role=\"button\" aria-pressed=\"true\" >⬆️Back to Table of Contents ⬆️</a>"
   ]
  },
  {
   "cell_type": "code",
   "execution_count": null,
   "metadata": {},
   "outputs": [],
   "source": []
  }
 ],
 "metadata": {
  "kernelspec": {
   "display_name": "Python 3 (ipykernel)",
   "language": "python",
   "name": "python3"
  },
  "language_info": {
   "codemirror_mode": {
    "name": "ipython",
    "version": 3
   },
   "file_extension": ".py",
   "mimetype": "text/x-python",
   "name": "python",
   "nbconvert_exporter": "python",
   "pygments_lexer": "ipython3",
   "version": "3.9.7"
  }
 },
 "nbformat": 4,
 "nbformat_minor": 4
}
